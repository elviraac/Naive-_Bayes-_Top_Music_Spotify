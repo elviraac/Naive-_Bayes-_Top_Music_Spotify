{
  "nbformat": 4,
  "nbformat_minor": 0,
  "metadata": {
    "colab": {
      "provenance": []
    },
    "kernelspec": {
      "name": "python3",
      "display_name": "Python 3"
    },
    "language_info": {
      "name": "python"
    }
  },
  "cells": [
    {
      "cell_type": "code",
      "execution_count": 1,
      "metadata": {
        "id": "cRbKwhAH-KQq"
      },
      "outputs": [],
      "source": [
        "import numpy as np\n",
        "import matplotlib.pyplot as plt\n",
        "import pandas as pd"
      ]
    },
    {
      "cell_type": "markdown",
      "source": [
        "Importing The Dataset "
      ],
      "metadata": {
        "id": "sKRziX2PBjGp"
      }
    },
    {
      "cell_type": "code",
      "source": [
        "dataset = pd.read_csv('Features.csv')\n",
        "X = dataset.iloc[:, [2, 3]].values\n",
        "y = dataset.iloc[:, -8].values"
      ],
      "metadata": {
        "id": "JlK0Uy3U_DPO"
      },
      "execution_count": 4,
      "outputs": []
    },
    {
      "cell_type": "code",
      "source": [
        "y"
      ],
      "metadata": {
        "colab": {
          "base_uri": "https://localhost:8080/"
        },
        "id": "Bt_dbohl_DeG",
        "outputId": "a7241dce-d690-4d70-af3e-b6488d4ed1bf"
      },
      "execution_count": 5,
      "outputs": [
        {
          "output_type": "execute_result",
          "data": {
            "text/plain": [
              "array([1, 0, 0, 1, 0, 1, 1, 1, 0, 0, 0, 1, 1, 1, 1, 1, 1, 0, 0, 0, 1, 1,\n",
              "       1, 0, 0, 1, 1, 0, 1, 1, 1, 0, 1, 1, 0, 1, 0, 1, 0, 0, 0, 0, 1, 1,\n",
              "       1, 0, 1, 0, 1, 1, 1, 0, 0, 1, 1, 0, 0, 1, 1, 1, 1, 1, 1, 0, 1, 1,\n",
              "       1, 1, 1, 1, 0, 0, 1, 1, 1, 0, 0, 1, 1, 1, 1, 1, 0, 1, 0, 1, 0, 1,\n",
              "       0, 1, 0, 1, 1, 1, 1, 1, 1, 1, 1, 1])"
            ]
          },
          "metadata": {},
          "execution_count": 5
        }
      ]
    },
    {
      "cell_type": "code",
      "source": [
        "X"
      ],
      "metadata": {
        "colab": {
          "base_uri": "https://localhost:8080/"
        },
        "id": "fhFkijQu_htS",
        "outputId": "94d1071c-e3f6-4a74-8f55-77d938a34667"
      },
      "execution_count": 6,
      "outputs": [
        {
          "output_type": "execute_result",
          "data": {
            "text/plain": [
              "array([[3.33 , 0.73 ],\n",
              "       [3.9  , 0.652],\n",
              "       [3.49 , 0.588],\n",
              "       [3.04 , 0.405],\n",
              "       [3.64 , 0.52 ],\n",
              "       [2.63 , 0.479],\n",
              "       [2.9  , 0.625],\n",
              "       [4.08 , 0.524],\n",
              "       [4.01 , 0.31 ],\n",
              "       [3.41 , 0.78 ],\n",
              "       [3.18 , 0.548],\n",
              "       [2.96 , 0.663],\n",
              "       [3.98 , 0.525],\n",
              "       [3.52 , 0.557],\n",
              "       [3.84 , 0.587],\n",
              "       [3.23 , 0.425],\n",
              "       [4.69 , 0.445],\n",
              "       [4.   , 0.566],\n",
              "       [3.02 , 0.185],\n",
              "       [3.34 , 0.296],\n",
              "       [2.9  , 0.816],\n",
              "       [3.32 , 0.449],\n",
              "       [4.32 , 0.379],\n",
              "       [5.91 , 0.402],\n",
              "       [4.12 , 0.635],\n",
              "       [4.01 , 0.807],\n",
              "       [3.6  , 0.385],\n",
              "       [2.79 , 0.731],\n",
              "       [3.9  , 0.378],\n",
              "       [3.59 , 0.762],\n",
              "       [2.78 , 0.613],\n",
              "       [4.03 , 0.664],\n",
              "       [4.49 , 0.264],\n",
              "       [4.88 , 0.89 ],\n",
              "       [2.98 , 0.317],\n",
              "       [4.06 , 0.728],\n",
              "       [1.99 , 0.391],\n",
              "       [3.62 , 0.523],\n",
              "       [3.37 , 0.637],\n",
              "       [3.05 , 0.75 ],\n",
              "       [4.3  , 0.705],\n",
              "       [3.49 , 0.7  ],\n",
              "       [4.12 , 0.783],\n",
              "       [3.4  , 0.731],\n",
              "       [3.21 , 0.67 ],\n",
              "       [2.95 , 0.621],\n",
              "       [4.21 , 0.545],\n",
              "       [4.04 , 0.564],\n",
              "       [5.21 , 0.73 ],\n",
              "       [1.52 , 0.871],\n",
              "       [2.97 , 0.664],\n",
              "       [3.1  , 0.643],\n",
              "       [3.58 , 0.862],\n",
              "       [3.43 , 0.716],\n",
              "       [4.03 , 0.431],\n",
              "       [2.94 , 0.809],\n",
              "       [3.13 , 0.819],\n",
              "       [2.95 , 0.719],\n",
              "       [3.85 , 0.578],\n",
              "       [2.88 , 0.42 ],\n",
              "       [3.67 , 0.804],\n",
              "       [3.54 , 0.627],\n",
              "       [4.84 , 0.669],\n",
              "       [3.53 , 0.704],\n",
              "       [5.44 , 0.744],\n",
              "       [4.15 , 0.684],\n",
              "       [2.92 , 0.71 ],\n",
              "       [3.72 , 0.911],\n",
              "       [4.49 , 0.609],\n",
              "       [3.35 , 0.372],\n",
              "       [3.38 , 0.825],\n",
              "       [3.3  , 0.714],\n",
              "       [3.49 , 0.502],\n",
              "       [3.46 , 0.653],\n",
              "       [3.67 , 0.676],\n",
              "       [3.42 , 0.573],\n",
              "       [2.3  , 0.503],\n",
              "       [2.16 , 0.74 ],\n",
              "       [4.54 , 0.532],\n",
              "       [3.9  , 0.769],\n",
              "       [3.38 , 0.783],\n",
              "       [3.81 , 0.816],\n",
              "       [2.25 , 0.537],\n",
              "       [4.31 , 0.893],\n",
              "       [4.88 , 0.521],\n",
              "       [3.44 , 0.56 ],\n",
              "       [3.28 , 0.586],\n",
              "       [4.96 , 0.847],\n",
              "       [3.32 , 0.813],\n",
              "       [3.45 , 0.754],\n",
              "       [3.53 , 0.698],\n",
              "       [5.03 , 0.912],\n",
              "       [3.01 , 0.559],\n",
              "       [2.93 , 0.633],\n",
              "       [3.29 , 0.505],\n",
              "       [3.96 , 0.473],\n",
              "       [4.45 , 0.661],\n",
              "       [2.9  , 0.816],\n",
              "       [3.82 , 0.797],\n",
              "       [7.05 , 0.553]])"
            ]
          },
          "metadata": {},
          "execution_count": 6
        }
      ]
    },
    {
      "cell_type": "markdown",
      "source": [
        "Splitting the dataset into the Training set and Test set"
      ],
      "metadata": {
        "id": "UvZSG0qZBppP"
      }
    },
    {
      "cell_type": "code",
      "source": [
        "from sklearn.model_selection import train_test_split\n",
        "X_train, X_test, y_train, y_test = train_test_split(X, y, test_size = 0.25, random_state = 0)"
      ],
      "metadata": {
        "id": "p2eLDo8h_1A3"
      },
      "execution_count": 7,
      "outputs": []
    },
    {
      "cell_type": "code",
      "source": [
        "X_train"
      ],
      "metadata": {
        "colab": {
          "base_uri": "https://localhost:8080/"
        },
        "id": "rgnQbX1X_7Ui",
        "outputId": "1c16d76f-21c6-4d54-ebd2-76e62307cc1a"
      },
      "execution_count": 8,
      "outputs": [
        {
          "output_type": "execute_result",
          "data": {
            "text/plain": [
              "array([[5.21 , 0.73 ],\n",
              "       [2.9  , 0.625],\n",
              "       [7.05 , 0.553],\n",
              "       [2.25 , 0.537],\n",
              "       [2.3  , 0.503],\n",
              "       [3.67 , 0.804],\n",
              "       [3.38 , 0.783],\n",
              "       [3.53 , 0.698],\n",
              "       [4.49 , 0.609],\n",
              "       [3.1  , 0.643],\n",
              "       [2.79 , 0.731],\n",
              "       [3.02 , 0.185],\n",
              "       [3.13 , 0.819],\n",
              "       [3.53 , 0.704],\n",
              "       [3.67 , 0.676],\n",
              "       [3.9  , 0.652],\n",
              "       [3.54 , 0.627],\n",
              "       [4.12 , 0.783],\n",
              "       [3.49 , 0.7  ],\n",
              "       [3.64 , 0.52 ],\n",
              "       [3.23 , 0.425],\n",
              "       [4.   , 0.566],\n",
              "       [4.3  , 0.705],\n",
              "       [3.37 , 0.637],\n",
              "       [2.63 , 0.479],\n",
              "       [5.03 , 0.912],\n",
              "       [2.88 , 0.42 ],\n",
              "       [3.33 , 0.73 ],\n",
              "       [2.98 , 0.317],\n",
              "       [3.9  , 0.378],\n",
              "       [2.97 , 0.664],\n",
              "       [2.96 , 0.663],\n",
              "       [4.06 , 0.728],\n",
              "       [5.91 , 0.402],\n",
              "       [3.58 , 0.862],\n",
              "       [3.18 , 0.548],\n",
              "       [4.03 , 0.664],\n",
              "       [2.92 , 0.71 ],\n",
              "       [2.95 , 0.719],\n",
              "       [3.9  , 0.769],\n",
              "       [3.44 , 0.56 ],\n",
              "       [4.49 , 0.264],\n",
              "       [4.88 , 0.521],\n",
              "       [3.84 , 0.587],\n",
              "       [3.45 , 0.754],\n",
              "       [3.34 , 0.296],\n",
              "       [3.59 , 0.762],\n",
              "       [1.52 , 0.871],\n",
              "       [2.9  , 0.816],\n",
              "       [3.82 , 0.797],\n",
              "       [3.35 , 0.372],\n",
              "       [2.9  , 0.816],\n",
              "       [3.29 , 0.505],\n",
              "       [3.49 , 0.502],\n",
              "       [2.16 , 0.74 ],\n",
              "       [4.01 , 0.807],\n",
              "       [3.62 , 0.523],\n",
              "       [3.81 , 0.816],\n",
              "       [4.21 , 0.545],\n",
              "       [3.05 , 0.75 ],\n",
              "       [4.15 , 0.684],\n",
              "       [3.85 , 0.578],\n",
              "       [3.98 , 0.525],\n",
              "       [3.32 , 0.813],\n",
              "       [3.38 , 0.825],\n",
              "       [4.96 , 0.847],\n",
              "       [1.99 , 0.391],\n",
              "       [3.32 , 0.449],\n",
              "       [4.31 , 0.893],\n",
              "       [3.41 , 0.78 ],\n",
              "       [4.45 , 0.661],\n",
              "       [3.72 , 0.911],\n",
              "       [5.44 , 0.744],\n",
              "       [4.04 , 0.564],\n",
              "       [3.21 , 0.67 ]])"
            ]
          },
          "metadata": {},
          "execution_count": 8
        }
      ]
    },
    {
      "cell_type": "code",
      "source": [
        "\n",
        "y_test"
      ],
      "metadata": {
        "colab": {
          "base_uri": "https://localhost:8080/"
        },
        "id": "TNryAhgQACrl",
        "outputId": "c482f268-6922-4e8d-eef8-e9d7d771b567"
      },
      "execution_count": 9,
      "outputs": [
        {
          "output_type": "execute_result",
          "data": {
            "text/plain": [
              "array([1, 0, 0, 0, 0, 1, 1, 1, 1, 1, 1, 1, 1, 1, 1, 1, 1, 0, 1, 0, 1, 1,\n",
              "       1, 0, 0])"
            ]
          },
          "metadata": {},
          "execution_count": 9
        }
      ]
    },
    {
      "cell_type": "markdown",
      "source": [
        "Feature Scaling"
      ],
      "metadata": {
        "id": "nDov2WXtB1g8"
      }
    },
    {
      "cell_type": "code",
      "source": [
        "from sklearn.preprocessing import StandardScaler\n",
        "sc = StandardScaler()\n",
        "X_train = sc.fit_transform(X_train)\n",
        "X_test = sc.transform(X_test)"
      ],
      "metadata": {
        "id": "T0Ejm3t2AEpZ"
      },
      "execution_count": 10,
      "outputs": []
    },
    {
      "cell_type": "code",
      "source": [
        "\n",
        "X_train"
      ],
      "metadata": {
        "colab": {
          "base_uri": "https://localhost:8080/"
        },
        "id": "oUqTR-V-AHaF",
        "outputId": "ec9866ea-3cb8-4714-bbe3-86eed01a59e5"
      },
      "execution_count": 11,
      "outputs": [
        {
          "output_type": "execute_result",
          "data": {
            "text/plain": [
              "array([[ 1.85648161e+00,  5.43003482e-01],\n",
              "       [-8.40897112e-01, -1.01869451e-01],\n",
              "       [ 4.00504301e+00, -5.44068034e-01],\n",
              "       [-1.59989978e+00, -6.42334386e-01],\n",
              "       [-1.54151496e+00, -8.51150383e-01],\n",
              "       [ 5.82291279e-02,  9.97485358e-01],\n",
              "       [-2.80402833e-01,  8.68510772e-01],\n",
              "       [-1.05248370e-01,  3.46470778e-01],\n",
              "       [ 1.01574019e+00, -2.00135803e-01],\n",
              "       [-6.07357829e-01,  8.68019440e-03],\n",
              "       [-9.69343718e-01,  5.49145129e-01],\n",
              "       [-7.00773542e-01, -2.80419412e+00],\n",
              "       [-5.72326937e-01,  1.08961006e+00],\n",
              "       [-1.05248370e-01,  3.83320660e-01],\n",
              "       [ 5.82291279e-02,  2.11354545e-01],\n",
              "       [ 3.26799304e-01,  6.39550172e-02],\n",
              "       [-9.35714061e-02, -8.95861573e-02],\n",
              "       [ 5.83692515e-01,  8.68510772e-01],\n",
              "       [-1.51956227e-01,  3.58754072e-01],\n",
              "       [ 2.31982355e-02, -7.46742384e-01],\n",
              "       [-4.55557295e-01, -1.33019885e+00],\n",
              "       [ 4.43568945e-01, -4.64226623e-01],\n",
              "       [ 7.93877870e-01,  3.89462307e-01],\n",
              "       [-2.92079797e-01, -2.81696875e-02],\n",
              "       [-1.15617514e+00, -9.98549910e-01],\n",
              "       [ 1.64629625e+00,  1.66078323e+00],\n",
              "       [-8.64251041e-01, -1.36090708e+00],\n",
              "       [-3.38787653e-01,  5.43003482e-01],\n",
              "       [-7.47481399e-01, -1.99349672e+00],\n",
              "       [ 3.26799304e-01, -1.61885626e+00],\n",
              "       [-7.59158363e-01,  1.37654781e-01],\n",
              "       [-7.70835327e-01,  1.31513134e-01],\n",
              "       [ 5.13630730e-01,  5.30720188e-01],\n",
              "       [ 2.67386910e+00, -1.47145673e+00],\n",
              "       [-4.68635495e-02,  1.35370088e+00],\n",
              "       [-5.13942116e-01, -5.74776269e-01],\n",
              "       [ 4.78599838e-01,  1.37654781e-01],\n",
              "       [-8.17543184e-01,  4.20170542e-01],\n",
              "       [-7.82512292e-01,  4.75445365e-01],\n",
              "       [ 3.26799304e-01,  7.82527714e-01],\n",
              "       [-2.10341048e-01, -5.01076505e-01],\n",
              "       [ 1.01574019e+00, -2.31900401e+00],\n",
              "       [ 1.47114179e+00, -7.40600737e-01],\n",
              "       [ 2.56737519e-01, -3.35252037e-01],\n",
              "       [-1.98664084e-01,  6.90403009e-01],\n",
              "       [-3.27110689e-01, -2.12247131e+00],\n",
              "       [-3.51865853e-02,  7.39536185e-01],\n",
              "       [-2.45231817e+00,  1.40897571e+00],\n",
              "       [-8.40897112e-01,  1.07118512e+00],\n",
              "       [ 2.33383590e-01,  9.54493829e-01],\n",
              "       [-3.15433725e-01, -1.65570614e+00],\n",
              "       [-8.40897112e-01,  1.07118512e+00],\n",
              "       [-3.85495510e-01, -8.38867089e-01],\n",
              "       [-1.51956227e-01, -8.57292030e-01],\n",
              "       [-1.70499246e+00,  6.04419952e-01],\n",
              "       [ 4.55245909e-01,  1.01591030e+00],\n",
              "       [-1.55692855e-04, -7.28317443e-01],\n",
              "       [ 2.21706626e-01,  1.07118512e+00],\n",
              "       [ 6.88785193e-01, -5.93201210e-01],\n",
              "       [-6.65742650e-01,  6.65836421e-01],\n",
              "       [ 6.18723408e-01,  2.60487721e-01],\n",
              "       [ 2.68414483e-01, -3.90526859e-01],\n",
              "       [ 4.20215017e-01, -7.16034149e-01],\n",
              "       [-3.50464618e-01,  1.05276018e+00],\n",
              "       [-2.80402833e-01,  1.12645994e+00],\n",
              "       [ 1.56455750e+00,  1.26157618e+00],\n",
              "       [-1.90350085e+00, -1.53901484e+00],\n",
              "       [-3.50464618e-01, -1.18279932e+00],\n",
              "       [ 8.05554834e-01,  1.54409194e+00],\n",
              "       [-2.45371940e-01,  8.50085831e-01],\n",
              "       [ 9.69032332e-01,  1.19229840e-01],\n",
              "       [ 1.16613949e-01,  1.65464159e+00],\n",
              "       [ 2.12505178e+00,  6.28986539e-01],\n",
              "       [ 4.90276802e-01, -4.76509917e-01],\n",
              "       [-4.78911223e-01,  1.74504663e-01]])"
            ]
          },
          "metadata": {},
          "execution_count": 11
        }
      ]
    },
    {
      "cell_type": "code",
      "source": [
        "\n",
        "y_test"
      ],
      "metadata": {
        "colab": {
          "base_uri": "https://localhost:8080/"
        },
        "id": "c7DVELxAAJ8G",
        "outputId": "aa89878e-979e-4c80-f52a-a39ce5008f17"
      },
      "execution_count": 12,
      "outputs": [
        {
          "output_type": "execute_result",
          "data": {
            "text/plain": [
              "array([1, 0, 0, 0, 0, 1, 1, 1, 1, 1, 1, 1, 1, 1, 1, 1, 1, 0, 1, 0, 1, 1,\n",
              "       1, 0, 0])"
            ]
          },
          "metadata": {},
          "execution_count": 12
        }
      ]
    },
    {
      "cell_type": "markdown",
      "source": [
        "Training the Naive Bayes model on the Training set"
      ],
      "metadata": {
        "id": "VYPEetYrB70v"
      }
    },
    {
      "cell_type": "code",
      "source": [
        "from sklearn.naive_bayes import GaussianNB\n",
        "classifier = GaussianNB()\n",
        "classifier.fit(X_train, y_train)"
      ],
      "metadata": {
        "colab": {
          "base_uri": "https://localhost:8080/",
          "height": 75
        },
        "id": "kVmEjiQAANj8",
        "outputId": "a6d48b05-7483-4b70-a32b-e9d3e4cc3784"
      },
      "execution_count": 13,
      "outputs": [
        {
          "output_type": "execute_result",
          "data": {
            "text/plain": [
              "GaussianNB()"
            ],
            "text/html": [
              "<style>#sk-container-id-1 {color: black;background-color: white;}#sk-container-id-1 pre{padding: 0;}#sk-container-id-1 div.sk-toggleable {background-color: white;}#sk-container-id-1 label.sk-toggleable__label {cursor: pointer;display: block;width: 100%;margin-bottom: 0;padding: 0.3em;box-sizing: border-box;text-align: center;}#sk-container-id-1 label.sk-toggleable__label-arrow:before {content: \"▸\";float: left;margin-right: 0.25em;color: #696969;}#sk-container-id-1 label.sk-toggleable__label-arrow:hover:before {color: black;}#sk-container-id-1 div.sk-estimator:hover label.sk-toggleable__label-arrow:before {color: black;}#sk-container-id-1 div.sk-toggleable__content {max-height: 0;max-width: 0;overflow: hidden;text-align: left;background-color: #f0f8ff;}#sk-container-id-1 div.sk-toggleable__content pre {margin: 0.2em;color: black;border-radius: 0.25em;background-color: #f0f8ff;}#sk-container-id-1 input.sk-toggleable__control:checked~div.sk-toggleable__content {max-height: 200px;max-width: 100%;overflow: auto;}#sk-container-id-1 input.sk-toggleable__control:checked~label.sk-toggleable__label-arrow:before {content: \"▾\";}#sk-container-id-1 div.sk-estimator input.sk-toggleable__control:checked~label.sk-toggleable__label {background-color: #d4ebff;}#sk-container-id-1 div.sk-label input.sk-toggleable__control:checked~label.sk-toggleable__label {background-color: #d4ebff;}#sk-container-id-1 input.sk-hidden--visually {border: 0;clip: rect(1px 1px 1px 1px);clip: rect(1px, 1px, 1px, 1px);height: 1px;margin: -1px;overflow: hidden;padding: 0;position: absolute;width: 1px;}#sk-container-id-1 div.sk-estimator {font-family: monospace;background-color: #f0f8ff;border: 1px dotted black;border-radius: 0.25em;box-sizing: border-box;margin-bottom: 0.5em;}#sk-container-id-1 div.sk-estimator:hover {background-color: #d4ebff;}#sk-container-id-1 div.sk-parallel-item::after {content: \"\";width: 100%;border-bottom: 1px solid gray;flex-grow: 1;}#sk-container-id-1 div.sk-label:hover label.sk-toggleable__label {background-color: #d4ebff;}#sk-container-id-1 div.sk-serial::before {content: \"\";position: absolute;border-left: 1px solid gray;box-sizing: border-box;top: 0;bottom: 0;left: 50%;z-index: 0;}#sk-container-id-1 div.sk-serial {display: flex;flex-direction: column;align-items: center;background-color: white;padding-right: 0.2em;padding-left: 0.2em;position: relative;}#sk-container-id-1 div.sk-item {position: relative;z-index: 1;}#sk-container-id-1 div.sk-parallel {display: flex;align-items: stretch;justify-content: center;background-color: white;position: relative;}#sk-container-id-1 div.sk-item::before, #sk-container-id-1 div.sk-parallel-item::before {content: \"\";position: absolute;border-left: 1px solid gray;box-sizing: border-box;top: 0;bottom: 0;left: 50%;z-index: -1;}#sk-container-id-1 div.sk-parallel-item {display: flex;flex-direction: column;z-index: 1;position: relative;background-color: white;}#sk-container-id-1 div.sk-parallel-item:first-child::after {align-self: flex-end;width: 50%;}#sk-container-id-1 div.sk-parallel-item:last-child::after {align-self: flex-start;width: 50%;}#sk-container-id-1 div.sk-parallel-item:only-child::after {width: 0;}#sk-container-id-1 div.sk-dashed-wrapped {border: 1px dashed gray;margin: 0 0.4em 0.5em 0.4em;box-sizing: border-box;padding-bottom: 0.4em;background-color: white;}#sk-container-id-1 div.sk-label label {font-family: monospace;font-weight: bold;display: inline-block;line-height: 1.2em;}#sk-container-id-1 div.sk-label-container {text-align: center;}#sk-container-id-1 div.sk-container {/* jupyter's `normalize.less` sets `[hidden] { display: none; }` but bootstrap.min.css set `[hidden] { display: none !important; }` so we also need the `!important` here to be able to override the default hidden behavior on the sphinx rendered scikit-learn.org. See: https://github.com/scikit-learn/scikit-learn/issues/21755 */display: inline-block !important;position: relative;}#sk-container-id-1 div.sk-text-repr-fallback {display: none;}</style><div id=\"sk-container-id-1\" class=\"sk-top-container\"><div class=\"sk-text-repr-fallback\"><pre>GaussianNB()</pre><b>In a Jupyter environment, please rerun this cell to show the HTML representation or trust the notebook. <br />On GitHub, the HTML representation is unable to render, please try loading this page with nbviewer.org.</b></div><div class=\"sk-container\" hidden><div class=\"sk-item\"><div class=\"sk-estimator sk-toggleable\"><input class=\"sk-toggleable__control sk-hidden--visually\" id=\"sk-estimator-id-1\" type=\"checkbox\" checked><label for=\"sk-estimator-id-1\" class=\"sk-toggleable__label sk-toggleable__label-arrow\">GaussianNB</label><div class=\"sk-toggleable__content\"><pre>GaussianNB()</pre></div></div></div></div></div>"
            ]
          },
          "metadata": {},
          "execution_count": 13
        }
      ]
    },
    {
      "cell_type": "markdown",
      "source": [
        "Predicting the Test set results"
      ],
      "metadata": {
        "id": "69Jw9T6vB_WD"
      }
    },
    {
      "cell_type": "code",
      "source": [
        "y_pred = classifier.predict(X_test)"
      ],
      "metadata": {
        "id": "zYbPmfXyAQ8T"
      },
      "execution_count": 14,
      "outputs": []
    },
    {
      "cell_type": "code",
      "source": [
        "\n",
        "y_pred"
      ],
      "metadata": {
        "colab": {
          "base_uri": "https://localhost:8080/"
        },
        "id": "JS7yyTktATiI",
        "outputId": "bbd61be1-6dee-4d5a-d749-1e596961083f"
      },
      "execution_count": 15,
      "outputs": [
        {
          "output_type": "execute_result",
          "data": {
            "text/plain": [
              "array([0, 1, 1, 1, 1, 1, 1, 1, 1, 1, 1, 1, 1, 1, 1, 1, 1, 1, 1, 0, 1, 1,\n",
              "       0, 1, 1])"
            ]
          },
          "metadata": {},
          "execution_count": 15
        }
      ]
    },
    {
      "cell_type": "code",
      "source": [
        "y_test"
      ],
      "metadata": {
        "colab": {
          "base_uri": "https://localhost:8080/"
        },
        "id": "U9ivwZNsAWN8",
        "outputId": "33882cba-b4a6-4f37-f305-5672d232b743"
      },
      "execution_count": 16,
      "outputs": [
        {
          "output_type": "execute_result",
          "data": {
            "text/plain": [
              "array([1, 0, 0, 0, 0, 1, 1, 1, 1, 1, 1, 1, 1, 1, 1, 1, 1, 0, 1, 0, 1, 1,\n",
              "       1, 0, 0])"
            ]
          },
          "metadata": {},
          "execution_count": 16
        }
      ]
    },
    {
      "cell_type": "markdown",
      "source": [
        "Making the Confusion Matrix"
      ],
      "metadata": {
        "id": "vdPU9UZ9CDLM"
      }
    },
    {
      "cell_type": "code",
      "source": [
        "from sklearn.metrics import confusion_matrix\n",
        "cm = confusion_matrix(y_test, y_pred)\n",
        "print(cm)"
      ],
      "metadata": {
        "colab": {
          "base_uri": "https://localhost:8080/"
        },
        "id": "OmF9N34jAZkq",
        "outputId": "34d3a410-822f-4dc4-f456-bed1e3bf20c6"
      },
      "execution_count": 17,
      "outputs": [
        {
          "output_type": "stream",
          "name": "stdout",
          "text": [
            "[[ 1  7]\n",
            " [ 2 15]]\n"
          ]
        }
      ]
    },
    {
      "cell_type": "code",
      "source": [
        "import seaborn as sns\n",
        "import matplotlib.pyplot as plt\n",
        "f, ax = plt.subplots(figsize=(8,5))\n",
        "sns.heatmap(confusion_matrix(y_test, y_pred), annot=True, fmt=\".0f\", ax=ax)\n",
        "plt.xlabel(\"y_pred\")\n",
        "plt.ylabel(\"y_true\")\n",
        "plt.show()"
      ],
      "metadata": {
        "colab": {
          "base_uri": "https://localhost:8080/",
          "height": 465
        },
        "id": "ocHqvg46AbWe",
        "outputId": "d6e60107-32cd-4eb8-8499-1f636e80d1fd"
      },
      "execution_count": 18,
      "outputs": [
        {
          "output_type": "display_data",
          "data": {
            "text/plain": [
              "<Figure size 800x500 with 2 Axes>"
            ],
            "image/png": "[encoded data removed]"
          },
          "metadata": {}
        }
      ]
    },
    {
      "cell_type": "code",
      "source": [
        "from sklearn.metrics import classification_report\n",
        "print (classification_report(y_test, y_pred))"
      ],
      "metadata": {
        "colab": {
          "base_uri": "https://localhost:8080/"
        },
        "id": "jftYWG_0AhW0",
        "outputId": "f6340066-ef8b-44ad-c38a-65fbb3e3a224"
      },
      "execution_count": 19,
      "outputs": [
        {
          "output_type": "stream",
          "name": "stdout",
          "text": [
            "              precision    recall  f1-score   support\n",
            "\n",
            "           0       0.33      0.12      0.18         8\n",
            "           1       0.68      0.88      0.77        17\n",
            "\n",
            "    accuracy                           0.64        25\n",
            "   macro avg       0.51      0.50      0.48        25\n",
            "weighted avg       0.57      0.64      0.58        25\n",
            "\n"
          ]
        }
      ]
    },
    {
      "cell_type": "markdown",
      "source": [
        "Visualising the Training set results"
      ],
      "metadata": {
        "id": "3DUaRvy_CJA3"
      }
    },
    {
      "cell_type": "code",
      "source": [
        "from matplotlib.colors import ListedColormap\n",
        "X_set, y_set = X_train, y_train\n",
        "X1, X2 = np.meshgrid(np.arange(start = X_set[:, 0].min() - 1, stop = X_set[:, 0].max() + 1, step = 0.01),\n",
        "                     np.arange(start = X_set[:, 1].min() - 1, stop = X_set[:, 1].max() + 1, step = 0.01))\n",
        "plt.contourf(X1, X2, classifier.predict(np.array([X1.ravel(), X2.ravel()]).T).reshape(X1.shape),\n",
        "             alpha = 0.75, cmap = ListedColormap(('red', 'green')))\n",
        "plt.xlim(X1.min(), X1.max())\n",
        "plt.ylim(X2.min(), X2.max())\n",
        "for i, j in enumerate(np.unique(y_set)):\n",
        "    plt.scatter(X_set[y_set == j, 0], X_set[y_set == j, 1],\n",
        "                c = ListedColormap(('red', 'green'))(i), label = j)\n",
        "plt.title('Naive Bayes (Training set)')\n",
        "plt.xlabel('Duration')\n",
        "plt.ylabel('Energy')\n",
        "plt.legend()\n",
        "plt.show()"
      ],
      "metadata": {
        "colab": {
          "base_uri": "https://localhost:8080/",
          "height": 527
        },
        "id": "jNZ9TV6oAnpd",
        "outputId": "479d50f5-32ee-4db4-969a-dba569f78a7a"
      },
      "execution_count": 22,
      "outputs": [
        {
          "output_type": "stream",
          "name": "stderr",
          "text": [
            "<ipython-input-22-9ef47c3e8877>:10: UserWarning: *c* argument looks like a single numeric RGB or RGBA sequence, which should be avoided as value-mapping will have precedence in case its length matches with *x* & *y*.  Please use the *color* keyword-argument or provide a 2D array with a single row if you intend to specify the same RGB or RGBA value for all points.\n",
            "  plt.scatter(X_set[y_set == j, 0], X_set[y_set == j, 1],\n"
          ]
        },
        {
          "output_type": "display_data",
          "data": {
            "text/plain": [
              "<Figure size 640x480 with 1 Axes>"
            ],
            "image/png": "[encoded data removed]"
          },
          "metadata": {}
        }
      ]
    },
    {
      "cell_type": "markdown",
      "source": [
        "Visualising the Test set results"
      ],
      "metadata": {
        "id": "j1Ab_9enCOSq"
      }
    },
    {
      "cell_type": "code",
      "source": [
        "from matplotlib.colors import ListedColormap\n",
        "X_set, y_set = X_test, y_test\n",
        "X1, X2 = np.meshgrid(np.arange(start = X_set[:, 0].min() - 1, stop = X_set[:, 0].max() + 1, step = 0.01),\n",
        "                     np.arange(start = X_set[:, 1].min() - 1, stop = X_set[:, 1].max() + 1, step = 0.01))\n",
        "plt.contourf(X1, X2, classifier.predict(np.array([X1.ravel(), X2.ravel()]).T).reshape(X1.shape),\n",
        "             alpha = 0.75, cmap = ListedColormap(('red', 'green')))\n",
        "plt.xlim(X1.min(), X1.max())\n",
        "plt.ylim(X2.min(), X2.max())\n",
        "for i, j in enumerate(np.unique(y_set)):\n",
        "    plt.scatter(X_set[y_set == j, 0], X_set[y_set == j, 1],\n",
        "                c = ListedColormap(('red', 'green'))(i), label = j)\n",
        "plt.title('Naive Bayes (Test set)')\n",
        "plt.xlabel('Duration')\n",
        "plt.ylabel('Energy')\n",
        "plt.legend()\n",
        "plt.show()"
      ],
      "metadata": {
        "colab": {
          "base_uri": "https://localhost:8080/",
          "height": 527
        },
        "id": "qsJQ6h3PA2AE",
        "outputId": "20c7c528-1c1a-4ca8-d2f6-8ff19a3f59c2"
      },
      "execution_count": 23,
      "outputs": [
        {
          "output_type": "stream",
          "name": "stderr",
          "text": [
            "<ipython-input-23-d57e052bfe14>:10: UserWarning: *c* argument looks like a single numeric RGB or RGBA sequence, which should be avoided as value-mapping will have precedence in case its length matches with *x* & *y*.  Please use the *color* keyword-argument or provide a 2D array with a single row if you intend to specify the same RGB or RGBA value for all points.\n",
            "  plt.scatter(X_set[y_set == j, 0], X_set[y_set == j, 1],\n"
          ]
        },
        {
          "output_type": "display_data",
          "data": {
            "text/plain": [
              "<Figure size 640x480 with 1 Axes>"
            ],
            "image/png": "[encoded data removed]"
          },
          "metadata": {}
        }
      ]
    }
  ]
}